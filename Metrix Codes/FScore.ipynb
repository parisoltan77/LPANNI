{
  "nbformat": 4,
  "nbformat_minor": 0,
  "metadata": {
    "colab": {
      "name": "FScore.ipynb",
      "provenance": [],
      "collapsed_sections": []
    },
    "kernelspec": {
      "name": "python3",
      "display_name": "Python 3"
    },
    "language_info": {
      "name": "python"
    }
  },
  "cells": [
    {
      "cell_type": "code",
      "metadata": {
        "id": "9XdEUstdYj63"
      },
      "source": [
        "#Programmed by Soltanzadeh\n",
        "\n",
        "import time\n",
        "import json"
      ],
      "execution_count": null,
      "outputs": []
    },
    {
      "cell_type": "code",
      "metadata": {
        "id": "gSiAbnHrVbcO"
      },
      "source": [
        "def fetchResultOverlappingNodes(filePath):\n",
        "    nodeSet = set({})\n",
        "    with open(filePath, 'r') as fileHandle:\n",
        "        line = fileHandle.readline()\n",
        "        while line:\n",
        "            nodeIdList = line.split()\n",
        "            if len(nodeIdList) > 2:\n",
        "                nodeSet.add(nodeIdList[0])\n",
        "            line = fileHandle.readline()\n",
        "    return nodeSet"
      ],
      "execution_count": null,
      "outputs": []
    },
    {
      "cell_type": "code",
      "metadata": {
        "id": "sNQTcwhLVeUS"
      },
      "source": [
        "def calculateFScore(communityFilePath, resultFilePath):\n",
        "    groundTruth = fetchResultOverlappingNodes(communityFilePath)\n",
        "    predictNodes = fetchResultOverlappingNodes(resultFilePath)\n",
        "    correctNodes = predictNodes.intersection(groundTruth)\n",
        "    precision = len(correctNodes)*1.0/len(predictNodes)\n",
        "    recall = len(correctNodes)*1.0/len(groundTruth)\n",
        "    if precision+recall > 0:\n",
        "        fScore = 2*precision*recall/(precision+recall)\n",
        "    else:\n",
        "        fScore = 0\n",
        "    #print('Precision: %.5f' % precision)\n",
        "    #print('Recall: %.5f' % recall)\n",
        "    #print('F1 Score: %.5f' % f1Score)\n",
        "    return fScore, precision, recall"
      ],
      "execution_count": null,
      "outputs": []
    },
    {
      "cell_type": "code",
      "metadata": {
        "id": "yLr13VyvVkOh"
      },
      "source": [
        "def main():\n",
        "    startTime = time.time()\n",
        "    with open('FScore.json', 'w') as fileHandle:\n",
        "        jsonObj = {}\n",
        "        for i in [1000, 5000, 10000]:\n",
        "            jsonObj[str(i)] = {}\n",
        "            for j in [1, 3]:\n",
        "                jsonObj[str(i)]['0.%d' % j] = {'FScore': [], 'Precision': [], 'Recall': []}\n",
        "                for k in [2, 3, 4, 5, 6, 7, 8]:\n",
        "                    resultFilePath = \"N-%d-mu0.%d-om%d-result.txt\" % (i, j, k)\n",
        "                    communityFilePath = \"N-%d-mu0.%d-om%d-community.txt\" % (i, j, k)\n",
        "                    fScore, precision, recall = calculateFScore(communityFilePath, resultFilePath)\n",
        "                   \n",
        "                    jsonObj[str(i)]['0.%d' % j]['FScore'].append(fScore)\n",
        "                    jsonObj[str(i)]['0.%d' % j]['Precision'].append(precision)\n",
        "                    jsonObj[str(i)]['0.%d' % j]['Recall'].append(recall)\n",
        "        fileHandle.write(json.dumps(jsonObj))\n",
        "    completeTime = time.time()\n",
        "    print('Result Written in FScore.json')\n",
        "    print('Running Time: %.3fs' % (completeTime-startTime))"
      ],
      "execution_count": null,
      "outputs": []
    },
    {
      "cell_type": "code",
      "metadata": {
        "id": "Hqg6cgmdqO1Q"
      },
      "source": [
        "if __name__ == \"__main__\":\n",
        "    main()"
      ],
      "execution_count": null,
      "outputs": []
    },
    {
      "cell_type": "code",
      "metadata": {
        "id": "mNZhxTtqUpLW"
      },
      "source": [
        "\"\"\"\n",
        "from google.colab import files\n",
        "uploaded = files.upload()\n",
        "\"\"\""
      ],
      "execution_count": null,
      "outputs": []
    }
  ]
}