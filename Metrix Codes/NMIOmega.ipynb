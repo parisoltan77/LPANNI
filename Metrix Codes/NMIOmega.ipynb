{
  "nbformat": 4,
  "nbformat_minor": 0,
  "metadata": {
    "colab": {
      "name": "NMIOmega.ipynb",
      "provenance": [],
      "collapsed_sections": []
    },
    "kernelspec": {
      "display_name": "Python 3",
      "name": "python3"
    },
    "language_info": {
      "name": "python"
    }
  },
  "cells": [
    {
      "cell_type": "code",
      "metadata": {
        "id": "DGHbg1ReIgBZ"
      },
      "source": [
        "#Programmed by Soltanzadeh\n",
        "import json\n",
        "import os\n",
        "import networkx as nx\n",
        "import pandas as pd \n",
        "from cdlib import NodeClustering, evaluation"
      ],
      "execution_count": null,
      "outputs": []
    },
    {
      "cell_type": "code",
      "metadata": {
        "id": "2wnK_CRXJ6iu"
      },
      "source": [
        "def get_communities(path, first_delimiter, delimiter, seperate_comm_id):\n",
        "    comm_dict = dict()\n",
        "    with open(path, \"rt\") as f:\n",
        "        for row in f:\n",
        "            node, row = row.rstrip().split(first_delimiter, 1)\n",
        "            node = int(node)\n",
        "            record = list(map(int, row.split(delimiter)))\n",
        "            for comm_id in record:\n",
        "                if comm_id in comm_dict.keys():\n",
        "                    comm_dict[comm_id].append(node)\n",
        "                else:\n",
        "                    comm_dict[comm_id] = [node]\n",
        "    communities = []\n",
        "    for k, v in comm_dict.items():\n",
        "        if not seperate_comm_id:\n",
        "            v.append(k)\n",
        "        communities.append(v)\n",
        "    return communities"
      ],
      "execution_count": null,
      "outputs": []
    },
    {
      "cell_type": "code",
      "metadata": {
        "id": "btvF-mCNW0-G"
      },
      "source": [
        "def main():\n",
        "    NMI_result = dict()\n",
        "    Omega_result = dict()\n",
        "    for N in [1000, 5000, 10000]:\n",
        "        NMI_result[N] = dict()\n",
        "        Omega_result[N] = dict()\n",
        "        for mu in [0.1, 0.3]:\n",
        "            NMI_result[N][mu] = {'NMI':[], 'NMI_max':[]}\n",
        "            Omega_result[N][mu] = {'omega':[]}\n",
        "            for om in range(2,9):\n",
        "                communities = get_communities(os.path.join('N-{}-mu{:1.1f}-om{}-result.txt'.format(N, mu, om)), \" \", \" \", False)\n",
        "                gt_communities = get_communities(os.path.join('N-{}-mu{:1.1f}-om{}-community.txt'.format(N, mu, om)), \"\\t\", \" \", True)\n",
        "                df = pd.read_csv('N-{}-mu{:1.1f}-om{}.csv'.format(N, mu, om))\n",
        "                G = nx.from_pandas_edgelist(df,source=\"From\",target=\"To\")\n",
        "                coms = NodeClustering(communities, G, \"\", overlap=True)\n",
        "                gt_coms = NodeClustering(gt_communities, G, \"\", overlap=True)\n",
        "                nmi = evaluation.overlapping_normalized_mutual_information_LFK(coms, gt_coms)[0]\n",
        "                nmi_max = evaluation.overlapping_normalized_mutual_information_MGH(coms, gt_coms)[0]\n",
        "                omega = evaluation.omega(coms, gt_coms)[0]\n",
        "                NMI_result[N][mu]['NMI'].append(nmi)\n",
        "                NMI_result[N][mu]['NMI_max'].append(nmi_max)\n",
        "                Omega_result[N][mu]['omega'].append(omega)\n",
        "\n",
        "                #print(\"\\nN: \", N,\"mu: \", mu,\"om: \", om,\"NMI_result: \", NMI_result, \"Omega_result: \", Omega_result)\n",
        "        \n",
        "        with open('LFR_nmi.json', 'w') as f:\n",
        "            json.dump(NMI_result, f)\n",
        "        with open('LFR_omega.json', 'w') as f:\n",
        "            json.dump(Omega_result, f)\n",
        "        \n"
      ],
      "execution_count": null,
      "outputs": []
    },
    {
      "cell_type": "code",
      "metadata": {
        "id": "DWPJp78JJ9e9"
      },
      "source": [
        "\"\"\"\n",
        "def main():\n",
        "    NMI_result = dict()\n",
        "    Omega_result = dict()\n",
        "    N=10000\n",
        "    mu=0.3\n",
        "    om=8\n",
        "    NMI_result[N] = dict()\n",
        "    Omega_result[N] = dict()\n",
        "        \n",
        "    NMI_result[N][mu] = {'NMI':[], 'NMI_max':[]}\n",
        "    Omega_result[N][mu] = {'omega':[]}\n",
        "                \n",
        "    communities = get_communities(os.path.join('N-{}-mu{:1.1f}-om{}-result.txt'.format(N, mu, om)), \" \", \" \", False)\n",
        "    gt_communities = get_communities(os.path.join('N-{}-mu{:1.1f}-om{}-community.txt'.format(N, mu, om)), \"\\t\", \" \", True)\n",
        "    df = pd.read_csv('N-{}-mu{:1.1f}-om{}.csv'.format(N, mu, om))\n",
        "    G = nx.from_pandas_edgelist(df,source=\"From\",target=\"To\")\n",
        "    coms = NodeClustering(communities, G, \"\", overlap=True)\n",
        "    gt_coms = NodeClustering(gt_communities, G, \"\", overlap=True)\n",
        "    #nmi = evaluation.overlapping_normalized_mutual_information_LFK(coms, gt_coms)[0]\n",
        "    nmi_max = evaluation.overlapping_normalized_mutual_information_MGH(coms, gt_coms)[0]\n",
        "    #omega = evaluation.omega(coms, gt_coms)[0]\n",
        "    #NMI_result[N][mu]['NMI'].append(nmi)\n",
        "    #NMI_result[N][mu]['NMI_max'].append(nmi_max)\n",
        "    #Omega_result[N][mu]['omega'].append(omega)\n",
        "\n",
        "    print(nmi_max)\n",
        "    \n",
        "    #with open('LFR_nmi.json', 'w') as f:\n",
        "    #json.dump(NMI_result, f)\n",
        "    #with open('LFR_omega.json', 'w') as f:\n",
        "    #json.dump(Omega_result, f)\n",
        "    \n",
        "  \"\"\""
      ],
      "execution_count": null,
      "outputs": []
    },
    {
      "cell_type": "code",
      "metadata": {
        "id": "JprGmqYBAuAb"
      },
      "source": [
        "if __name__ == \"__main__\":\n",
        "    main()"
      ],
      "execution_count": null,
      "outputs": []
    },
    {
      "cell_type": "code",
      "metadata": {
        "id": "iyN7mjmtqgdz"
      },
      "source": [
        "\"\"\"\n",
        "from google.colab import files\n",
        "uploaded = files.upload()\n",
        "\"\"\""
      ],
      "execution_count": null,
      "outputs": []
    }
  ]
}